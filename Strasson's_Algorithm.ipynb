{
 "cells": [
  {
   "cell_type": "markdown",
   "metadata": {},
   "source": [
    "## Strassen's Algorithm for matrix \n",
    "Now it's only for multiplication of 2 n*n matrix n is a power of 2"
   ]
  },
  {
   "cell_type": "code",
   "execution_count": 1,
   "metadata": {},
   "outputs": [],
   "source": [
    "import numpy as np"
   ]
  },
  {
   "cell_type": "code",
   "execution_count": 28,
   "metadata": {},
   "outputs": [
    {
     "name": "stdout",
     "output_type": "stream",
     "text": [
      "[[ 0  1  2  3  4  5  6  7]\n",
      " [ 8  9 10 11 12 13 14 15]\n",
      " [16 17 18 19 20 21 22 23]\n",
      " [24 25 26 27 28 29 30 31]\n",
      " [32 33 34 35 36 37 38 39]\n",
      " [40 41 42 43 44 45 46 47]\n",
      " [48 49 50 51 52 53 54 55]\n",
      " [56 57 58 59 60 61 62 63]] \n",
      " [[ 0  1  2  3  4  5  6  7]\n",
      " [ 8  9 10 11 12 13 14 15]\n",
      " [16 17 18 19 20 21 22 23]\n",
      " [24 25 26 27 28 29 30 31]\n",
      " [32 33 34 35 36 37 38 39]\n",
      " [40 41 42 43 44 45 46 47]\n",
      " [48 49 50 51 52 53 54 55]\n",
      " [56 57 58 59 60 61 62 63]]\n"
     ]
    }
   ],
   "source": [
    "m1 = np.arange(64).reshape(8,8)\n",
    "m2 = np.arange(64).reshape(8,8)\n",
    "print(m1, \"\\n\",m2)"
   ]
  },
  {
   "cell_type": "markdown",
   "metadata": {},
   "source": [
    "We want to find the least computation for matrix multiplication"
   ]
  },
  {
   "cell_type": "code",
   "execution_count": 29,
   "metadata": {},
   "outputs": [],
   "source": [
    "# [[A B],   .   [[E F],   =   [[AE+BG  AF+BH]\n",
    "#  [C D]]        [G H]]        [CE+DG  CF+DH]]"
   ]
  },
  {
   "cell_type": "code",
   "execution_count": 30,
   "metadata": {},
   "outputs": [],
   "source": [
    "def matrix_splitter(Mat:np.matrix):\n",
    "    n = int(Mat.shape[0]/2)\n",
    "\n",
    "    s1 = Mat[:n, :n]\n",
    "    s2 = Mat[:n, n:]\n",
    "    s3 = Mat[n:, :n]\n",
    "    s4 = Mat[n:, n:]\n",
    "    return s1, s2, s3, s4"
   ]
  },
  {
   "cell_type": "code",
   "execution_count": 31,
   "metadata": {},
   "outputs": [],
   "source": [
    "def strasson(Mat1:np.array,Mat2:np.array)->np.array:\n",
    "    if (Mat1.shape[0] * Mat1.shape[1] * Mat2.shape[0] * Mat2.shape[1]) % 2 != 0:\n",
    "        raise ValueError (\"shapes should be a power of 2\")\n",
    "    if (Mat1.shape[0] != Mat1.shape[1] and Mat2.shape[0] != Mat2.shape[1]):\n",
    "        raise ValueError (\"Shapes should be n*n\")\n",
    "\n",
    "    # Base Case\n",
    "    if (Mat1.shape[0]<4) and (Mat2.shape[0]<4):\n",
    "        A,B,C,D = matrix_splitter(Mat1)\n",
    "        E,F,G,H = matrix_splitter(Mat2)        \n",
    "        p1 = A * (F-H)\n",
    "        p2 = (A+B) * H\n",
    "        p3 = (C+D) * E\n",
    "        p4 = D * (G-E)\n",
    "        p5 = (A+D) * (E+H)\n",
    "        p6 = (B-D) * (G+H)\n",
    "        p7 = (A-C) * (E+F)\n",
    "        c1 = p4+p5+p6-p2\n",
    "        c2 = p1+p2\n",
    "        c3 = p3+p4\n",
    "        c4 = p1+p5-p3-p7\n",
    "        res = np.vstack((np.hstack((c1,c2)), np.hstack((c3,c4))))\n",
    "        return res\n",
    "    \n",
    "    A,B,C,D = matrix_splitter(Mat1)\n",
    "    E,F,G,H = matrix_splitter(Mat2)\n",
    "    return np.vstack((np.hstack((strasson(A,E)+strasson(B,G), strasson(A,F)+strasson(B,H))), np.hstack((strasson(C,E)+strasson(D,G), strasson(C,F)+strasson(D,H)))))\n",
    "\n"
   ]
  },
  {
   "cell_type": "code",
   "execution_count": 32,
   "metadata": {},
   "outputs": [
    {
     "data": {
      "text/plain": [
       "array([[ 1120,  1148,  1176,  1204,  1232,  1260,  1288,  1316],\n",
       "       [ 2912,  3004,  3096,  3188,  3280,  3372,  3464,  3556],\n",
       "       [ 4704,  4860,  5016,  5172,  5328,  5484,  5640,  5796],\n",
       "       [ 6496,  6716,  6936,  7156,  7376,  7596,  7816,  8036],\n",
       "       [ 8288,  8572,  8856,  9140,  9424,  9708,  9992, 10276],\n",
       "       [10080, 10428, 10776, 11124, 11472, 11820, 12168, 12516],\n",
       "       [11872, 12284, 12696, 13108, 13520, 13932, 14344, 14756],\n",
       "       [13664, 14140, 14616, 15092, 15568, 16044, 16520, 16996]])"
      ]
     },
     "execution_count": 32,
     "metadata": {},
     "output_type": "execute_result"
    }
   ],
   "source": [
    "strasson(m1,m2)"
   ]
  },
  {
   "cell_type": "code",
   "execution_count": 33,
   "metadata": {},
   "outputs": [
    {
     "data": {
      "text/plain": [
       "array([[ 1120,  1148,  1176,  1204,  1232,  1260,  1288,  1316],\n",
       "       [ 2912,  3004,  3096,  3188,  3280,  3372,  3464,  3556],\n",
       "       [ 4704,  4860,  5016,  5172,  5328,  5484,  5640,  5796],\n",
       "       [ 6496,  6716,  6936,  7156,  7376,  7596,  7816,  8036],\n",
       "       [ 8288,  8572,  8856,  9140,  9424,  9708,  9992, 10276],\n",
       "       [10080, 10428, 10776, 11124, 11472, 11820, 12168, 12516],\n",
       "       [11872, 12284, 12696, 13108, 13520, 13932, 14344, 14756],\n",
       "       [13664, 14140, 14616, 15092, 15568, 16044, 16520, 16996]])"
      ]
     },
     "execution_count": 33,
     "metadata": {},
     "output_type": "execute_result"
    }
   ],
   "source": [
    "np.dot(m1,m2)"
   ]
  },
  {
   "cell_type": "code",
   "execution_count": 34,
   "metadata": {},
   "outputs": [
    {
     "data": {
      "text/plain": [
       "True"
      ]
     },
     "execution_count": 34,
     "metadata": {},
     "output_type": "execute_result"
    }
   ],
   "source": [
    "(strasson(m1,m2) == np.dot(m1,m2)).all()"
   ]
  },
  {
   "cell_type": "code",
   "execution_count": 35,
   "metadata": {},
   "outputs": [
    {
     "name": "stdout",
     "output_type": "stream",
     "text": [
      "[[ 0  1  2  3  4  5]\n",
      " [ 6  7  8  9 10 11]\n",
      " [12 13 14 15 16 17]\n",
      " [18 19 20 21 22 23]\n",
      " [24 25 26 27 28 29]\n",
      " [30 31 32 33 34 35]] \n",
      " [[ 0  1  2  3  4  5]\n",
      " [ 6  7  8  9 10 11]\n",
      " [12 13 14 15 16 17]\n",
      " [18 19 20 21 22 23]\n",
      " [24 25 26 27 28 29]\n",
      " [30 31 32 33 34 35]]\n"
     ]
    },
    {
     "ename": "ValueError",
     "evalue": "shapes should be a power of 2",
     "output_type": "error",
     "traceback": [
      "\u001b[1;31m---------------------------------------------------------------------------\u001b[0m",
      "\u001b[1;31mValueError\u001b[0m                                Traceback (most recent call last)",
      "Cell \u001b[1;32mIn[35], line 4\u001b[0m\n\u001b[0;32m      2\u001b[0m m2 \u001b[38;5;241m=\u001b[39m np\u001b[38;5;241m.\u001b[39marange(\u001b[38;5;241m36\u001b[39m)\u001b[38;5;241m.\u001b[39mreshape(\u001b[38;5;241m6\u001b[39m,\u001b[38;5;241m6\u001b[39m)\n\u001b[0;32m      3\u001b[0m \u001b[38;5;28mprint\u001b[39m(m1, \u001b[38;5;124m\"\u001b[39m\u001b[38;5;130;01m\\n\u001b[39;00m\u001b[38;5;124m\"\u001b[39m,m2)\n\u001b[1;32m----> 4\u001b[0m strasson(m1,m2)\n",
      "Cell \u001b[1;32mIn[31], line 27\u001b[0m, in \u001b[0;36mstrasson\u001b[1;34m(Mat1, Mat2)\u001b[0m\n\u001b[0;32m     25\u001b[0m A,B,C,D \u001b[38;5;241m=\u001b[39m matrix_splitter(Mat1)\n\u001b[0;32m     26\u001b[0m E,F,G,H \u001b[38;5;241m=\u001b[39m matrix_splitter(Mat2)\n\u001b[1;32m---> 27\u001b[0m \u001b[38;5;28;01mreturn\u001b[39;00m np\u001b[38;5;241m.\u001b[39mvstack((np\u001b[38;5;241m.\u001b[39mhstack((strasson(A,E)\u001b[38;5;241m+\u001b[39mstrasson(B,G), strasson(A,F)\u001b[38;5;241m+\u001b[39mstrasson(B,H))), np\u001b[38;5;241m.\u001b[39mhstack((strasson(C,E)\u001b[38;5;241m+\u001b[39mstrasson(D,G), strasson(C,F)\u001b[38;5;241m+\u001b[39mstrasson(D,H)))))\n",
      "Cell \u001b[1;32mIn[31], line 3\u001b[0m, in \u001b[0;36mstrasson\u001b[1;34m(Mat1, Mat2)\u001b[0m\n\u001b[0;32m      1\u001b[0m \u001b[38;5;28;01mdef\u001b[39;00m \u001b[38;5;21mstrasson\u001b[39m(Mat1:np\u001b[38;5;241m.\u001b[39marray,Mat2:np\u001b[38;5;241m.\u001b[39marray)\u001b[38;5;241m-\u001b[39m\u001b[38;5;241m>\u001b[39mnp\u001b[38;5;241m.\u001b[39marray:\n\u001b[0;32m      2\u001b[0m     \u001b[38;5;28;01mif\u001b[39;00m (Mat1\u001b[38;5;241m.\u001b[39mshape[\u001b[38;5;241m0\u001b[39m] \u001b[38;5;241m*\u001b[39m Mat1\u001b[38;5;241m.\u001b[39mshape[\u001b[38;5;241m1\u001b[39m] \u001b[38;5;241m*\u001b[39m Mat2\u001b[38;5;241m.\u001b[39mshape[\u001b[38;5;241m0\u001b[39m] \u001b[38;5;241m*\u001b[39m Mat2\u001b[38;5;241m.\u001b[39mshape[\u001b[38;5;241m1\u001b[39m]) \u001b[38;5;241m%\u001b[39m \u001b[38;5;241m2\u001b[39m \u001b[38;5;241m!=\u001b[39m \u001b[38;5;241m0\u001b[39m:\n\u001b[1;32m----> 3\u001b[0m         \u001b[38;5;28;01mraise\u001b[39;00m \u001b[38;5;167;01mValueError\u001b[39;00m (\u001b[38;5;124m\"\u001b[39m\u001b[38;5;124mshapes should be a power of 2\u001b[39m\u001b[38;5;124m\"\u001b[39m)\n\u001b[0;32m      4\u001b[0m     \u001b[38;5;28;01mif\u001b[39;00m (Mat1\u001b[38;5;241m.\u001b[39mshape[\u001b[38;5;241m0\u001b[39m] \u001b[38;5;241m!=\u001b[39m Mat1\u001b[38;5;241m.\u001b[39mshape[\u001b[38;5;241m1\u001b[39m] \u001b[38;5;129;01mand\u001b[39;00m Mat2\u001b[38;5;241m.\u001b[39mshape[\u001b[38;5;241m0\u001b[39m] \u001b[38;5;241m!=\u001b[39m Mat2\u001b[38;5;241m.\u001b[39mshape[\u001b[38;5;241m1\u001b[39m]):\n\u001b[0;32m      5\u001b[0m         \u001b[38;5;28;01mraise\u001b[39;00m \u001b[38;5;167;01mValueError\u001b[39;00m (\u001b[38;5;124m\"\u001b[39m\u001b[38;5;124mShapes should be n*n\u001b[39m\u001b[38;5;124m\"\u001b[39m)\n",
      "\u001b[1;31mValueError\u001b[0m: shapes should be a power of 2"
     ]
    }
   ],
   "source": [
    "m1 = np.arange(36).reshape(6,6)\n",
    "m2 = np.arange(36).reshape(6,6)\n",
    "print(m1, \"\\n\",m2)\n",
    "strasson(m1,m2)"
   ]
  }
 ],
 "metadata": {
  "kernelspec": {
   "display_name": "primary",
   "language": "python",
   "name": "python3"
  },
  "language_info": {
   "codemirror_mode": {
    "name": "ipython",
    "version": 3
   },
   "file_extension": ".py",
   "mimetype": "text/x-python",
   "name": "python",
   "nbconvert_exporter": "python",
   "pygments_lexer": "ipython3",
   "version": "3.11.4"
  }
 },
 "nbformat": 4,
 "nbformat_minor": 2
}
