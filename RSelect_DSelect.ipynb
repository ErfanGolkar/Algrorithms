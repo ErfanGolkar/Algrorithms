{
 "cells": [
  {
   "cell_type": "markdown",
   "metadata": {},
   "source": [
    "This is a program to find the ith order statistic of list A First we use an algorithm similar to Quick_Sort that can be either in O(n) or O(n^2)<br>\n",
    "Interestingly the algorithm is more likely to be of O(n)<br>\n",
    "Let's check out"
   ]
  },
  {
   "cell_type": "code",
   "execution_count": 16,
   "metadata": {},
   "outputs": [],
   "source": [
    "import random"
   ]
  },
  {
   "cell_type": "code",
   "execution_count": 146,
   "metadata": {},
   "outputs": [],
   "source": [
    "def RSelect(A:list, k:int) -> int:\n",
    "    \"\"\"Returns the ith order statistic of A\"\"\"\n",
    "    if len(A)==1:\n",
    "        return A[0]\n",
    "    pivot = A[random.choice(range(len(A)))]\n",
    "    j = 0\n",
    "    for i in range(0,len(A)):\n",
    "        if A[i] <= pivot:\n",
    "            print(f'first condition, A:{A}, A[i]:{A[i]}, A[j]:{A[j]}, pivot:{pivot}')\n",
    "            A[i], A[j] = A[j], A[i]\n",
    "            j += 1\n",
    "        else:                  #A[i] > pivot\n",
    "            print(f'second condition, A:{A}, A[i]:{A[i]}, A[j]:{A[j]}, pivot:{pivot}')\n",
    "            pass\n",
    "    # in this point j is the position of pivot in the partitioned array\n",
    "    print(f'res: first half:{A[:j]},second half:{A[j:]},j:{j},k:{k}')\n",
    "    if j == k:\n",
    "        return pivot\n",
    "    elif j>k:\n",
    "        return RSelect(A[:j], k)\n",
    "    else:                      #j<k\n",
    "        return RSelect(A[j:], k-j)     # We trimmed the first part so we lose few indices and must to reduce our index\n",
    "    "
   ]
  },
  {
   "cell_type": "code",
   "execution_count": 157,
   "metadata": {},
   "outputs": [
    {
     "name": "stdout",
     "output_type": "stream",
     "text": [
      "second condition, A:[14, 17, 10, 18, 12, 15, 3, 11, 4, 0, 5, 1, 19, 16, 2, 20, 6, 8, 9, 7, 13, 21], A[i]:14, A[j]:14, pivot:8\n",
      "second condition, A:[14, 17, 10, 18, 12, 15, 3, 11, 4, 0, 5, 1, 19, 16, 2, 20, 6, 8, 9, 7, 13, 21], A[i]:17, A[j]:14, pivot:8\n",
      "second condition, A:[14, 17, 10, 18, 12, 15, 3, 11, 4, 0, 5, 1, 19, 16, 2, 20, 6, 8, 9, 7, 13, 21], A[i]:10, A[j]:14, pivot:8\n",
      "second condition, A:[14, 17, 10, 18, 12, 15, 3, 11, 4, 0, 5, 1, 19, 16, 2, 20, 6, 8, 9, 7, 13, 21], A[i]:18, A[j]:14, pivot:8\n",
      "second condition, A:[14, 17, 10, 18, 12, 15, 3, 11, 4, 0, 5, 1, 19, 16, 2, 20, 6, 8, 9, 7, 13, 21], A[i]:12, A[j]:14, pivot:8\n",
      "second condition, A:[14, 17, 10, 18, 12, 15, 3, 11, 4, 0, 5, 1, 19, 16, 2, 20, 6, 8, 9, 7, 13, 21], A[i]:15, A[j]:14, pivot:8\n",
      "first condition, A:[14, 17, 10, 18, 12, 15, 3, 11, 4, 0, 5, 1, 19, 16, 2, 20, 6, 8, 9, 7, 13, 21], A[i]:3, A[j]:14, pivot:8\n",
      "second condition, A:[3, 17, 10, 18, 12, 15, 14, 11, 4, 0, 5, 1, 19, 16, 2, 20, 6, 8, 9, 7, 13, 21], A[i]:11, A[j]:17, pivot:8\n",
      "first condition, A:[3, 17, 10, 18, 12, 15, 14, 11, 4, 0, 5, 1, 19, 16, 2, 20, 6, 8, 9, 7, 13, 21], A[i]:4, A[j]:17, pivot:8\n",
      "first condition, A:[3, 4, 10, 18, 12, 15, 14, 11, 17, 0, 5, 1, 19, 16, 2, 20, 6, 8, 9, 7, 13, 21], A[i]:0, A[j]:10, pivot:8\n",
      "first condition, A:[3, 4, 0, 18, 12, 15, 14, 11, 17, 10, 5, 1, 19, 16, 2, 20, 6, 8, 9, 7, 13, 21], A[i]:5, A[j]:18, pivot:8\n",
      "first condition, A:[3, 4, 0, 5, 12, 15, 14, 11, 17, 10, 18, 1, 19, 16, 2, 20, 6, 8, 9, 7, 13, 21], A[i]:1, A[j]:12, pivot:8\n",
      "second condition, A:[3, 4, 0, 5, 1, 15, 14, 11, 17, 10, 18, 12, 19, 16, 2, 20, 6, 8, 9, 7, 13, 21], A[i]:19, A[j]:15, pivot:8\n",
      "second condition, A:[3, 4, 0, 5, 1, 15, 14, 11, 17, 10, 18, 12, 19, 16, 2, 20, 6, 8, 9, 7, 13, 21], A[i]:16, A[j]:15, pivot:8\n",
      "first condition, A:[3, 4, 0, 5, 1, 15, 14, 11, 17, 10, 18, 12, 19, 16, 2, 20, 6, 8, 9, 7, 13, 21], A[i]:2, A[j]:15, pivot:8\n",
      "second condition, A:[3, 4, 0, 5, 1, 2, 14, 11, 17, 10, 18, 12, 19, 16, 15, 20, 6, 8, 9, 7, 13, 21], A[i]:20, A[j]:14, pivot:8\n",
      "first condition, A:[3, 4, 0, 5, 1, 2, 14, 11, 17, 10, 18, 12, 19, 16, 15, 20, 6, 8, 9, 7, 13, 21], A[i]:6, A[j]:14, pivot:8\n",
      "first condition, A:[3, 4, 0, 5, 1, 2, 6, 11, 17, 10, 18, 12, 19, 16, 15, 20, 14, 8, 9, 7, 13, 21], A[i]:8, A[j]:11, pivot:8\n",
      "second condition, A:[3, 4, 0, 5, 1, 2, 6, 8, 17, 10, 18, 12, 19, 16, 15, 20, 14, 11, 9, 7, 13, 21], A[i]:9, A[j]:17, pivot:8\n",
      "first condition, A:[3, 4, 0, 5, 1, 2, 6, 8, 17, 10, 18, 12, 19, 16, 15, 20, 14, 11, 9, 7, 13, 21], A[i]:7, A[j]:17, pivot:8\n",
      "second condition, A:[3, 4, 0, 5, 1, 2, 6, 8, 7, 10, 18, 12, 19, 16, 15, 20, 14, 11, 9, 17, 13, 21], A[i]:13, A[j]:10, pivot:8\n",
      "second condition, A:[3, 4, 0, 5, 1, 2, 6, 8, 7, 10, 18, 12, 19, 16, 15, 20, 14, 11, 9, 17, 13, 21], A[i]:21, A[j]:10, pivot:8\n",
      "res: first half:[3, 4, 0, 5, 1, 2, 6, 8, 7],second half:[10, 18, 12, 19, 16, 15, 20, 14, 11, 9, 17, 13, 21],j:9,k:7\n",
      "first condition, A:[3, 4, 0, 5, 1, 2, 6, 8, 7], A[i]:3, A[j]:3, pivot:8\n",
      "first condition, A:[3, 4, 0, 5, 1, 2, 6, 8, 7], A[i]:4, A[j]:4, pivot:8\n",
      "first condition, A:[3, 4, 0, 5, 1, 2, 6, 8, 7], A[i]:0, A[j]:0, pivot:8\n",
      "first condition, A:[3, 4, 0, 5, 1, 2, 6, 8, 7], A[i]:5, A[j]:5, pivot:8\n",
      "first condition, A:[3, 4, 0, 5, 1, 2, 6, 8, 7], A[i]:1, A[j]:1, pivot:8\n",
      "first condition, A:[3, 4, 0, 5, 1, 2, 6, 8, 7], A[i]:2, A[j]:2, pivot:8\n",
      "first condition, A:[3, 4, 0, 5, 1, 2, 6, 8, 7], A[i]:6, A[j]:6, pivot:8\n",
      "first condition, A:[3, 4, 0, 5, 1, 2, 6, 8, 7], A[i]:8, A[j]:8, pivot:8\n",
      "first condition, A:[3, 4, 0, 5, 1, 2, 6, 8, 7], A[i]:7, A[j]:7, pivot:8\n",
      "res: first half:[3, 4, 0, 5, 1, 2, 6, 8, 7],second half:[],j:9,k:7\n",
      "first condition, A:[3, 4, 0, 5, 1, 2, 6, 8, 7], A[i]:3, A[j]:3, pivot:3\n",
      "second condition, A:[3, 4, 0, 5, 1, 2, 6, 8, 7], A[i]:4, A[j]:4, pivot:3\n",
      "first condition, A:[3, 4, 0, 5, 1, 2, 6, 8, 7], A[i]:0, A[j]:4, pivot:3\n",
      "second condition, A:[3, 0, 4, 5, 1, 2, 6, 8, 7], A[i]:5, A[j]:4, pivot:3\n",
      "first condition, A:[3, 0, 4, 5, 1, 2, 6, 8, 7], A[i]:1, A[j]:4, pivot:3\n",
      "first condition, A:[3, 0, 1, 5, 4, 2, 6, 8, 7], A[i]:2, A[j]:5, pivot:3\n",
      "second condition, A:[3, 0, 1, 2, 4, 5, 6, 8, 7], A[i]:6, A[j]:4, pivot:3\n",
      "second condition, A:[3, 0, 1, 2, 4, 5, 6, 8, 7], A[i]:8, A[j]:4, pivot:3\n",
      "second condition, A:[3, 0, 1, 2, 4, 5, 6, 8, 7], A[i]:7, A[j]:4, pivot:3\n",
      "res: first half:[3, 0, 1, 2],second half:[4, 5, 6, 8, 7],j:4,k:7\n",
      "first condition, A:[4, 5, 6, 8, 7], A[i]:4, A[j]:4, pivot:4\n",
      "second condition, A:[4, 5, 6, 8, 7], A[i]:5, A[j]:5, pivot:4\n",
      "second condition, A:[4, 5, 6, 8, 7], A[i]:6, A[j]:5, pivot:4\n",
      "second condition, A:[4, 5, 6, 8, 7], A[i]:8, A[j]:5, pivot:4\n",
      "second condition, A:[4, 5, 6, 8, 7], A[i]:7, A[j]:5, pivot:4\n",
      "res: first half:[4],second half:[5, 6, 8, 7],j:1,k:3\n",
      "first condition, A:[5, 6, 8, 7], A[i]:5, A[j]:5, pivot:5\n",
      "second condition, A:[5, 6, 8, 7], A[i]:6, A[j]:6, pivot:5\n",
      "second condition, A:[5, 6, 8, 7], A[i]:8, A[j]:6, pivot:5\n",
      "second condition, A:[5, 6, 8, 7], A[i]:7, A[j]:6, pivot:5\n",
      "res: first half:[5],second half:[6, 8, 7],j:1,k:2\n",
      "first condition, A:[6, 8, 7], A[i]:6, A[j]:6, pivot:7\n",
      "second condition, A:[6, 8, 7], A[i]:8, A[j]:8, pivot:7\n",
      "first condition, A:[6, 8, 7], A[i]:7, A[j]:8, pivot:7\n",
      "res: first half:[6, 7],second half:[8],j:2,k:1\n",
      "first condition, A:[6, 7], A[i]:6, A[j]:6, pivot:7\n",
      "first condition, A:[6, 7], A[i]:7, A[j]:7, pivot:7\n",
      "res: first half:[6, 7],second half:[],j:2,k:1\n",
      "first condition, A:[6, 7], A[i]:6, A[j]:6, pivot:7\n",
      "first condition, A:[6, 7], A[i]:7, A[j]:7, pivot:7\n",
      "res: first half:[6, 7],second half:[],j:2,k:1\n",
      "first condition, A:[6, 7], A[i]:6, A[j]:6, pivot:6\n",
      "second condition, A:[6, 7], A[i]:7, A[j]:7, pivot:6\n",
      "res: first half:[6],second half:[7],j:1,k:1\n"
     ]
    },
    {
     "data": {
      "text/plain": [
       "6"
      ]
     },
     "execution_count": 157,
     "metadata": {},
     "output_type": "execute_result"
    }
   ],
   "source": [
    "A = [14, 17, 10, 18, 12, 15, 3, 11, 4, 0, 5, 1, 19, 16, 2, 20, 6, 8, 9, 7, 13,21]\n",
    "RSelect(A,7)"
   ]
  },
  {
   "cell_type": "markdown",
   "metadata": {},
   "source": [
    "Let's implement the DSelect Algorithm"
   ]
  },
  {
   "cell_type": "code",
   "execution_count": 163,
   "metadata": {},
   "outputs": [],
   "source": [
    "def DSelect(A:list, k:int) -> int:\n",
    "    \"\"\"Returns the ith order statistic of A\"\"\"\n",
    "    if len(A)==1:\n",
    "        return A[0]\n",
    "    \n",
    "    C = []\n",
    "    groups = [A[h:h+5] for h in range(0, len(A),5)]\n",
    "    C = [l[len(l)//2]for l in groups]\n",
    "    # Recursive call #1\n",
    "    pivot = DSelect(C,len(C)//2)        #If we have n//5 groups and get 1 from each (medium),then we \n",
    "                                         #have n//5 entries in C, the medium is in index n//10((n//5)/2)\n",
    "    print('now pivot is',pivot,'A:',A,'C',C)\n",
    "    j = 0\n",
    "    for i in range(0,len(A)):\n",
    "        if A[i] == pivot:\n",
    "            print(f'equality condition, A:{A}, A[i]:{A[i]}, A[j]:{A[j]}, pivot:{pivot}')\n",
    "\n",
    "            A[i], A[j] = A[j], A[i]\n",
    "            pivot_index = j\n",
    "            j += 1                      # Save this for changing the pivot to its real place at the edn of the loop\n",
    "\n",
    "        elif A[i] < pivot:\n",
    "            print(f'first condition, A:{A}, A[i]:{A[i]}, A[j]:{A[j]}, pivot:{pivot}')\n",
    "            A[i], A[j] = A[j], A[i]\n",
    "            j += 1\n",
    "        else:                  #A[i] > pivot\n",
    "            print(f'second condition, A:{A}, A[i]:{A[i]}, A[j]:{A[j]}, pivot:{pivot}')\n",
    "            pass\n",
    "            \n",
    "    # Changing the place of the pivot\n",
    "    A[pivot_index], A[j-1] = A[j-1], A[pivot_index]\n",
    "\n",
    "    # in this point j is the position of pivot in the partitioned array\n",
    "    print(f'res: A: {A} first half:{A[:j-1]},second half:{A[j:]},j:{j},k:{k},pivot:{pivot}')\n",
    "\n",
    "    if j == k:\n",
    "        return pivot\n",
    "    # Recursive call #2\n",
    "    elif j>k:\n",
    "        return DSelect(A[:j-1], k)\n",
    "    else:                      #j<k\n",
    "        return DSelect(A[j:], k-j)     # We trimmed the first part so we lose few indices and must to reduce our index\n",
    "    "
   ]
  },
  {
   "cell_type": "code",
   "execution_count": 164,
   "metadata": {},
   "outputs": [
    {
     "name": "stdout",
     "output_type": "stream",
     "text": [
      "now pivot is 19 A: [10, 11, 19, 8, 21] C [19]\n",
      "first condition, A:[10, 11, 19, 8, 21], A[i]:10, A[j]:10, pivot:19\n",
      "first condition, A:[10, 11, 19, 8, 21], A[i]:11, A[j]:11, pivot:19\n",
      "equality condition, A:[10, 11, 19, 8, 21], A[i]:19, A[j]:19, pivot:19\n",
      "first condition, A:[10, 11, 19, 8, 21], A[i]:8, A[j]:8, pivot:19\n",
      "second condition, A:[10, 11, 19, 8, 21], A[i]:21, A[j]:21, pivot:19\n",
      "res: A: [10, 11, 8, 19, 21] first half:[10, 11, 8],second half:[21],j:4,k:2,pivot:19\n",
      "now pivot is 11 A: [10, 11, 8] C [11]\n",
      "first condition, A:[10, 11, 8], A[i]:10, A[j]:10, pivot:11\n",
      "equality condition, A:[10, 11, 8], A[i]:11, A[j]:11, pivot:11\n",
      "first condition, A:[10, 11, 8], A[i]:8, A[j]:8, pivot:11\n",
      "res: A: [10, 8, 11] first half:[10, 8],second half:[],j:3,k:2,pivot:11\n",
      "now pivot is 8 A: [10, 8] C [8]\n",
      "second condition, A:[10, 8], A[i]:10, A[j]:10, pivot:8\n",
      "equality condition, A:[10, 8], A[i]:8, A[j]:10, pivot:8\n",
      "res: A: [8, 10] first half:[],second half:[10],j:1,k:2,pivot:8\n",
      "now pivot is 10 A: [14, 17, 10, 18, 12, 15, 3, 11, 4, 0, 5, 1, 19, 16, 2, 20, 6, 8, 9, 7, 13, 21] C [10, 11, 8, 19, 21]\n",
      "second condition, A:[14, 17, 10, 18, 12, 15, 3, 11, 4, 0, 5, 1, 19, 16, 2, 20, 6, 8, 9, 7, 13, 21], A[i]:14, A[j]:14, pivot:10\n",
      "second condition, A:[14, 17, 10, 18, 12, 15, 3, 11, 4, 0, 5, 1, 19, 16, 2, 20, 6, 8, 9, 7, 13, 21], A[i]:17, A[j]:14, pivot:10\n",
      "equality condition, A:[14, 17, 10, 18, 12, 15, 3, 11, 4, 0, 5, 1, 19, 16, 2, 20, 6, 8, 9, 7, 13, 21], A[i]:10, A[j]:14, pivot:10\n",
      "second condition, A:[10, 17, 14, 18, 12, 15, 3, 11, 4, 0, 5, 1, 19, 16, 2, 20, 6, 8, 9, 7, 13, 21], A[i]:18, A[j]:17, pivot:10\n",
      "second condition, A:[10, 17, 14, 18, 12, 15, 3, 11, 4, 0, 5, 1, 19, 16, 2, 20, 6, 8, 9, 7, 13, 21], A[i]:12, A[j]:17, pivot:10\n",
      "second condition, A:[10, 17, 14, 18, 12, 15, 3, 11, 4, 0, 5, 1, 19, 16, 2, 20, 6, 8, 9, 7, 13, 21], A[i]:15, A[j]:17, pivot:10\n",
      "first condition, A:[10, 17, 14, 18, 12, 15, 3, 11, 4, 0, 5, 1, 19, 16, 2, 20, 6, 8, 9, 7, 13, 21], A[i]:3, A[j]:17, pivot:10\n",
      "second condition, A:[10, 3, 14, 18, 12, 15, 17, 11, 4, 0, 5, 1, 19, 16, 2, 20, 6, 8, 9, 7, 13, 21], A[i]:11, A[j]:14, pivot:10\n",
      "first condition, A:[10, 3, 14, 18, 12, 15, 17, 11, 4, 0, 5, 1, 19, 16, 2, 20, 6, 8, 9, 7, 13, 21], A[i]:4, A[j]:14, pivot:10\n",
      "first condition, A:[10, 3, 4, 18, 12, 15, 17, 11, 14, 0, 5, 1, 19, 16, 2, 20, 6, 8, 9, 7, 13, 21], A[i]:0, A[j]:18, pivot:10\n",
      "first condition, A:[10, 3, 4, 0, 12, 15, 17, 11, 14, 18, 5, 1, 19, 16, 2, 20, 6, 8, 9, 7, 13, 21], A[i]:5, A[j]:12, pivot:10\n",
      "first condition, A:[10, 3, 4, 0, 5, 15, 17, 11, 14, 18, 12, 1, 19, 16, 2, 20, 6, 8, 9, 7, 13, 21], A[i]:1, A[j]:15, pivot:10\n",
      "second condition, A:[10, 3, 4, 0, 5, 1, 17, 11, 14, 18, 12, 15, 19, 16, 2, 20, 6, 8, 9, 7, 13, 21], A[i]:19, A[j]:17, pivot:10\n",
      "second condition, A:[10, 3, 4, 0, 5, 1, 17, 11, 14, 18, 12, 15, 19, 16, 2, 20, 6, 8, 9, 7, 13, 21], A[i]:16, A[j]:17, pivot:10\n",
      "first condition, A:[10, 3, 4, 0, 5, 1, 17, 11, 14, 18, 12, 15, 19, 16, 2, 20, 6, 8, 9, 7, 13, 21], A[i]:2, A[j]:17, pivot:10\n",
      "second condition, A:[10, 3, 4, 0, 5, 1, 2, 11, 14, 18, 12, 15, 19, 16, 17, 20, 6, 8, 9, 7, 13, 21], A[i]:20, A[j]:11, pivot:10\n",
      "first condition, A:[10, 3, 4, 0, 5, 1, 2, 11, 14, 18, 12, 15, 19, 16, 17, 20, 6, 8, 9, 7, 13, 21], A[i]:6, A[j]:11, pivot:10\n",
      "first condition, A:[10, 3, 4, 0, 5, 1, 2, 6, 14, 18, 12, 15, 19, 16, 17, 20, 11, 8, 9, 7, 13, 21], A[i]:8, A[j]:14, pivot:10\n",
      "first condition, A:[10, 3, 4, 0, 5, 1, 2, 6, 8, 18, 12, 15, 19, 16, 17, 20, 11, 14, 9, 7, 13, 21], A[i]:9, A[j]:18, pivot:10\n",
      "first condition, A:[10, 3, 4, 0, 5, 1, 2, 6, 8, 9, 12, 15, 19, 16, 17, 20, 11, 14, 18, 7, 13, 21], A[i]:7, A[j]:12, pivot:10\n",
      "second condition, A:[10, 3, 4, 0, 5, 1, 2, 6, 8, 9, 7, 15, 19, 16, 17, 20, 11, 14, 18, 12, 13, 21], A[i]:13, A[j]:15, pivot:10\n",
      "second condition, A:[10, 3, 4, 0, 5, 1, 2, 6, 8, 9, 7, 15, 19, 16, 17, 20, 11, 14, 18, 12, 13, 21], A[i]:21, A[j]:15, pivot:10\n",
      "res: A: [7, 3, 4, 0, 5, 1, 2, 6, 8, 9, 10, 15, 19, 16, 17, 20, 11, 14, 18, 12, 13, 21] first half:[7, 3, 4, 0, 5, 1, 2, 6, 8, 9],second half:[15, 19, 16, 17, 20, 11, 14, 18, 12, 13, 21],j:11,k:7,pivot:10\n",
      "now pivot is 6 A: [4, 6] C [6]\n",
      "first condition, A:[4, 6], A[i]:4, A[j]:4, pivot:6\n",
      "equality condition, A:[4, 6], A[i]:6, A[j]:6, pivot:6\n",
      "res: A: [4, 6] first half:[4],second half:[],j:2,k:1,pivot:6\n",
      "now pivot is 4 A: [7, 3, 4, 0, 5, 1, 2, 6, 8, 9] C [4, 6]\n",
      "second condition, A:[7, 3, 4, 0, 5, 1, 2, 6, 8, 9], A[i]:7, A[j]:7, pivot:4\n",
      "first condition, A:[7, 3, 4, 0, 5, 1, 2, 6, 8, 9], A[i]:3, A[j]:7, pivot:4\n",
      "equality condition, A:[3, 7, 4, 0, 5, 1, 2, 6, 8, 9], A[i]:4, A[j]:7, pivot:4\n",
      "first condition, A:[3, 4, 7, 0, 5, 1, 2, 6, 8, 9], A[i]:0, A[j]:7, pivot:4\n",
      "second condition, A:[3, 4, 0, 7, 5, 1, 2, 6, 8, 9], A[i]:5, A[j]:7, pivot:4\n",
      "first condition, A:[3, 4, 0, 7, 5, 1, 2, 6, 8, 9], A[i]:1, A[j]:7, pivot:4\n",
      "first condition, A:[3, 4, 0, 1, 5, 7, 2, 6, 8, 9], A[i]:2, A[j]:5, pivot:4\n",
      "second condition, A:[3, 4, 0, 1, 2, 7, 5, 6, 8, 9], A[i]:6, A[j]:7, pivot:4\n",
      "second condition, A:[3, 4, 0, 1, 2, 7, 5, 6, 8, 9], A[i]:8, A[j]:7, pivot:4\n",
      "second condition, A:[3, 4, 0, 1, 2, 7, 5, 6, 8, 9], A[i]:9, A[j]:7, pivot:4\n",
      "res: A: [3, 2, 0, 1, 4, 7, 5, 6, 8, 9] first half:[3, 2, 0, 1],second half:[7, 5, 6, 8, 9],j:5,k:7,pivot:4\n",
      "now pivot is 6 A: [7, 5, 6, 8, 9] C [6]\n",
      "second condition, A:[7, 5, 6, 8, 9], A[i]:7, A[j]:7, pivot:6\n",
      "first condition, A:[7, 5, 6, 8, 9], A[i]:5, A[j]:7, pivot:6\n",
      "equality condition, A:[5, 7, 6, 8, 9], A[i]:6, A[j]:7, pivot:6\n",
      "second condition, A:[5, 6, 7, 8, 9], A[i]:8, A[j]:7, pivot:6\n",
      "second condition, A:[5, 6, 7, 8, 9], A[i]:9, A[j]:7, pivot:6\n",
      "res: A: [5, 6, 7, 8, 9] first half:[5],second half:[7, 8, 9],j:2,k:2,pivot:6\n"
     ]
    },
    {
     "data": {
      "text/plain": [
       "6"
      ]
     },
     "execution_count": 164,
     "metadata": {},
     "output_type": "execute_result"
    }
   ],
   "source": [
    "A = [14, 17, 10, 18, 12, 15, 3, 11, 4, 0, 5, 1, 19, 16, 2, 20, 6, 8, 9, 7, 13,21]\n",
    "DSelect(A,7)"
   ]
  }
 ],
 "metadata": {
  "kernelspec": {
   "display_name": "primary",
   "language": "python",
   "name": "python3"
  },
  "language_info": {
   "codemirror_mode": {
    "name": "ipython",
    "version": 3
   },
   "file_extension": ".py",
   "mimetype": "text/x-python",
   "name": "python",
   "nbconvert_exporter": "python",
   "pygments_lexer": "ipython3",
   "version": "3.11.4"
  }
 },
 "nbformat": 4,
 "nbformat_minor": 2
}
