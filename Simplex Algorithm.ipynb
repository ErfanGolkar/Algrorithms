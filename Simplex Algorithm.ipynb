{
 "cells": [
  {
   "cell_type": "markdown",
   "metadata": {},
   "source": [
    "## Simplex algoriythm\n",
    "An algorithm for optimization<br>\n",
    "sense is maximize here -> maximizing the objective"
   ]
  },
  {
   "cell_type": "code",
   "execution_count": 1,
   "metadata": {},
   "outputs": [],
   "source": [
    "import numpy as np"
   ]
  },
  {
   "cell_type": "code",
   "execution_count": 2,
   "metadata": {},
   "outputs": [],
   "source": [
    "def mat_modifications(objective, constraints, solution):\n",
    "    arr = np.vstack((-1 * objective, constraints))\n",
    "    left_arr = np.zeros(arr.shape[0])\n",
    "    left_arr[0] = 1\n",
    "    left_arr = left_arr.reshape(-1,1)\n",
    "    arr = np.hstack((left_arr, arr))\n",
    "    s_arr = np.identity(constraints.shape[0])\n",
    "    upp_arr = np.zeros(constraints.shape[0])\n",
    "    s_arr = np.vstack((np.zeros(constraints.shape[0]), s_arr))\n",
    "    arr = np.hstack((arr, s_arr))\n",
    "    arr = np.hstack((arr, solution.reshape(-1,1)))\n",
    "    return arr"
   ]
  },
  {
   "cell_type": "code",
   "execution_count": 6,
   "metadata": {},
   "outputs": [
    {
     "data": {
      "text/plain": [
       "array([[ 1., -5., -4.,  0.,  0.,  0.,  0.,  0.],\n",
       "       [ 0.,  6.,  4.,  1.,  0.,  0.,  0., 24.],\n",
       "       [ 0.,  1.,  2.,  0.,  1.,  0.,  0.,  6.],\n",
       "       [ 0., -1.,  1.,  0.,  0.,  1.,  0.,  1.],\n",
       "       [ 0.,  0.,  1.,  0.,  0.,  0.,  1.,  2.]])"
      ]
     },
     "execution_count": 6,
     "metadata": {},
     "output_type": "execute_result"
    }
   ],
   "source": [
    "objective = np.array([5,4])\n",
    "constraints = np.array([[6,4],[1,2],[-1,1],[0,1]])\n",
    "solutions = np.array([0,24,6,1,2])\n",
    "A = mat_modifications(objective, constraints, solutions)\n",
    "A"
   ]
  },
  {
   "cell_type": "markdown",
   "metadata": {},
   "source": [
    "#### First form form of row finding<br>\n",
    "You should PAY ATTENTION to large values of your matrix or use the second form"
   ]
  },
  {
   "cell_type": "code",
   "execution_count": 35,
   "metadata": {},
   "outputs": [
    {
     "data": {
      "text/plain": [
       "1"
      ]
     },
     "execution_count": 35,
     "metadata": {},
     "output_type": "execute_result"
    }
   ],
   "source": [
    "# def col_finder(_matrix):\n",
    "#     matrix = np.copy(_matrix)\n",
    "#     col_number = np.argmin(matrix[0])\n",
    "\n",
    "def row_finder(col_number, _matrix):\n",
    "    matrix = np.copy(_matrix)\n",
    "    col = matrix[1:, col_number]\n",
    "    col = np.where(col>0, col, 10**-6)\n",
    "    sol = matrix[1:, -1]\n",
    "    return np.argmin(sol/(col))+1    #1 row was deleted at first and now we are adding that\n",
    "\n",
    "row_finder(1, A)"
   ]
  },
  {
   "cell_type": "markdown",
   "metadata": {},
   "source": [
    "### Second form\n",
    "If U want to use first form and don't wanna contribute with divide by zero error, don't run this"
   ]
  },
  {
   "cell_type": "code",
   "execution_count": 32,
   "metadata": {},
   "outputs": [
    {
     "name": "stderr",
     "output_type": "stream",
     "text": [
      "C:\\Users\\ToTo\\AppData\\Local\\Temp\\ipykernel_8752\\2656738885.py:10: RuntimeWarning: divide by zero encountered in divide\n",
      "  res = sol/col\n"
     ]
    },
    {
     "data": {
      "text/plain": [
       "1"
      ]
     },
     "execution_count": 32,
     "metadata": {},
     "output_type": "execute_result"
    }
   ],
   "source": [
    "# def col_finder(_matrix):\n",
    "#     matrix = np.copy(_matrix)\n",
    "#     col_number = np.argmin(matrix[0])\n",
    "\n",
    "def row_finder(col_number, _matrix):\n",
    "    matrix = np.copy(_matrix)\n",
    "    col = matrix[1:, col_number]\n",
    "    sol = matrix[1:, -1]\n",
    "    # print(col, sol)\n",
    "    res = sol/col\n",
    "    res = np.where(res>=0, res, np.inf)\n",
    "    return np.argmin(res)+1    #1 row was deleted at first and now we are adding that\n",
    "\n",
    "row_finder(1, A)"
   ]
  },
  {
   "cell_type": "code",
   "execution_count": 36,
   "metadata": {},
   "outputs": [
    {
     "data": {
      "text/plain": [
       "array([[ 1.   ,  0.   , -0.667,  0.833,  0.   ,  0.   ,  0.   , 20.   ],\n",
       "       [ 0.   ,  1.   ,  0.667,  0.167,  0.   ,  0.   ,  0.   ,  4.   ],\n",
       "       [ 0.   ,  0.   ,  1.333, -0.167,  1.   ,  0.   ,  0.   ,  2.   ],\n",
       "       [ 0.   ,  0.   ,  1.667,  0.167,  0.   ,  1.   ,  0.   ,  5.   ],\n",
       "       [ 0.   ,  0.   ,  1.   ,  0.   ,  0.   ,  0.   ,  1.   ,  2.   ]])"
      ]
     },
     "execution_count": 36,
     "metadata": {},
     "output_type": "execute_result"
    }
   ],
   "source": [
    "# row operation in simplex method, approximatly simillar to elimination\n",
    "def row_opp(col_number, row_number, _matrix):\n",
    "    matrix = np.copy(_matrix)    # gives us a deep copy of enered matrix\n",
    "    arr = matrix[row_number] / matrix[row_number, col_number]\n",
    "    matrix[row_number] = arr\n",
    "    i = 0\n",
    "\n",
    "    while i < matrix.shape[0]:\n",
    "        if i == row_number:\n",
    "            i += 1\n",
    "            continue\n",
    "\n",
    "        mat_arr = matrix[i]\n",
    "        \n",
    "        if mat_arr[col_number] != 0:\n",
    "            # print(mat_arr[col_number])\n",
    "            new_arr = mat_arr - arr * mat_arr[col_number]\n",
    "            matrix[i] = new_arr\n",
    "            i += 1\n",
    "        else:\n",
    "            i += 1\n",
    "            continue\n",
    "\n",
    "    return np.round(matrix, 3)   # U can remove `round` to get more accurate answer\n",
    "\n",
    "b = row_opp(1, 1, A)\n",
    "b"
   ]
  },
  {
   "cell_type": "code",
   "execution_count": 37,
   "metadata": {},
   "outputs": [
    {
     "data": {
      "text/plain": [
       "array([[ 1.   ,  0.   ,  0.   ,  0.749,  0.5  ,  0.   ,  0.   , 21.001],\n",
       "       [ 0.   ,  1.   ,  0.   ,  0.251, -0.5  ,  0.   ,  0.   ,  2.999],\n",
       "       [ 0.   ,  0.   ,  1.   , -0.125,  0.75 ,  0.   ,  0.   ,  1.5  ],\n",
       "       [ 0.   ,  0.   ,  0.   ,  0.376, -1.251,  1.   ,  0.   ,  2.499],\n",
       "       [ 0.   ,  0.   ,  0.   ,  0.125, -0.75 ,  0.   ,  1.   ,  0.5  ]])"
      ]
     },
     "execution_count": 37,
     "metadata": {},
     "output_type": "execute_result"
    }
   ],
   "source": [
    "def symplex(_matrix, n_var): #n_var = constraints.shape[1]     number of variables\n",
    "    matrix = np.copy(_matrix)\n",
    "    if min(matrix[0, 1:n_var+1]) >= 0:\n",
    "        return matrix\n",
    "    \n",
    "    else:\n",
    "        # print(matrix)\n",
    "        col_number = np.argmin(matrix[0, 1:n_var+1]) + 1\n",
    "        row_number = row_finder(col_number, matrix)\n",
    "        # print(col_number, row_number)\n",
    "        matrix = row_opp(col_number, row_number, matrix)\n",
    "        # print('here in iter the matrix is\\n',matrix )\n",
    "        return symplex(matrix, n_var)\n",
    "\n",
    "x = symplex(A, 2)\n",
    "x"
   ]
  },
  {
   "cell_type": "code",
   "execution_count": null,
   "metadata": {},
   "outputs": [],
   "source": []
  }
 ],
 "metadata": {
  "kernelspec": {
   "display_name": "primary",
   "language": "python",
   "name": "python3"
  },
  "language_info": {
   "codemirror_mode": {
    "name": "ipython",
    "version": 3
   },
   "file_extension": ".py",
   "mimetype": "text/x-python",
   "name": "python",
   "nbconvert_exporter": "python",
   "pygments_lexer": "ipython3",
   "version": "3.11.4"
  }
 },
 "nbformat": 4,
 "nbformat_minor": 2
}
