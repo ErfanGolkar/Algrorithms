{
 "cells": [
  {
   "cell_type": "markdown",
   "metadata": {},
   "source": [
    "This Program recursively calculates the result of multiplication of two n-digit numbers<br>"
   ]
  },
  {
   "cell_type": "code",
   "execution_count": 18,
   "metadata": {},
   "outputs": [],
   "source": [
    "def karatsubo(x:int,y:int) -> int:\n",
    "    \n",
    "    # First We should turn the length of input to same number, though we'll padding the shorter number with 0\n",
    "    n_x = len(str(x))\n",
    "    n_y = len(str(y))\n",
    "\n",
    "    # if n_x > n_y:\n",
    "    #     padding = n_x - n_y\n",
    "    #     y = int(\"0\"*padding + str(y))\n",
    "    # different approaches\n",
    "    # if n_x < n_y:\n",
    "    #     padding = n_y - n_x\n",
    "    #     x = int(str(x).zfill(padding))\n",
    "\n",
    "    # Padding does not sense after returning the numbers to integers\n",
    "    # but we can figure out why for example in 1234 * 567 we split the second, to `c=5`` , `d=67`\n",
    "    # sth like splitting 0567\n",
    "\n",
    "    #Base case\n",
    "    if x<10 or y<10:\n",
    "        return x*y\n",
    "    \n",
    "    # Karatsuba is cooler than needs the inputs with same length\n",
    "    n = max(len(str(x)), len(str(y)))\n",
    "    half = n//2\n",
    "    \n",
    "    a,b = x // 10**(half), x % 10**(half)\n",
    "    c,d = y // 10**(half), y % 10**(half)\n",
    "    p,q = a+b, c+d\n",
    "\n",
    "    ac = karatsubo(a,c)\n",
    "    bd = karatsubo(b,d)\n",
    "    pq = karatsubo(p,q)\n",
    "    \n",
    "    adbc = pq - ac - bd\n",
    "\n",
    "    return ac*10**(2*half) + adbc*10**(half) + b*d     #2 half may be bigger than n"
   ]
  },
  {
   "cell_type": "code",
   "execution_count": 20,
   "metadata": {},
   "outputs": [
    {
     "data": {
      "text/plain": [
       "7006652"
      ]
     },
     "execution_count": 20,
     "metadata": {},
     "output_type": "execute_result"
    }
   ],
   "source": [
    "karatsubo(1234,5678)"
   ]
  },
  {
   "cell_type": "code",
   "execution_count": 21,
   "metadata": {},
   "outputs": [
    {
     "data": {
      "text/plain": [
       "7006652"
      ]
     },
     "execution_count": 21,
     "metadata": {},
     "output_type": "execute_result"
    }
   ],
   "source": [
    "1234*5678"
   ]
  }
 ],
 "metadata": {
  "kernelspec": {
   "display_name": "primary",
   "language": "python",
   "name": "python3"
  },
  "language_info": {
   "codemirror_mode": {
    "name": "ipython",
    "version": 3
   },
   "file_extension": ".py",
   "mimetype": "text/x-python",
   "name": "python",
   "nbconvert_exporter": "python",
   "pygments_lexer": "ipython3",
   "version": "3.11.4"
  }
 },
 "nbformat": 4,
 "nbformat_minor": 2
}
