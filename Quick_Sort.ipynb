{
 "cells": [
  {
   "cell_type": "markdown",
   "metadata": {},
   "source": [
    "### This is about an amazing algorithm\n",
    "# QuickSort"
   ]
  },
  {
   "cell_type": "code",
   "execution_count": 1,
   "metadata": {},
   "outputs": [],
   "source": [
    "#      ,\n",
    "# [(3),8,2,5,1,4,7,6]\n",
    "#      *\n",
    "\n",
    "#      ,\n",
    "# [(3),8,2,5,1,4,7,6]\n",
    "#       (*)\n",
    "\n",
    "#      ,\n",
    "# [(3),2,8,5,1,4,7,6]\n",
    "#       (*)\n",
    "\n",
    "#        ,\n",
    "# [(3),2,8,5,1,4,7,6]\n",
    "#          *\n",
    "\n",
    "#        ,\n",
    "# [(3),2,8,5,1,4,7,6]\n",
    "#           (*) \n",
    "\n",
    "#        ,\n",
    "# [(3),2,1,5,8,4,7,6]\n",
    "#           (*)\n",
    "\n",
    "#          ,\n",
    "# [(3),2,1,5,8,4,7,6]\n",
    "#              *\n",
    "\n",
    "#          ,\n",
    "# [(3),2,1,5,8,4,7,6]\n",
    "#                *\n",
    "\n",
    "#          ,\n",
    "# [(3),2,1,5,8,4,7,6]\n",
    "#                  *\n",
    "\n",
    "#          ,\n",
    "# [1,2,3,5,8,4,7,6]\n",
    "#                *\n",
    "\n",
    "# AND SO ON"
   ]
  },
  {
   "cell_type": "code",
   "execution_count": 2,
   "metadata": {},
   "outputs": [],
   "source": [
    "# The Naive model of Quick sort\n",
    "\n",
    "def Quick_Sort(A:list) -> list:\n",
    "    n = len(A)\n",
    "    if n<2:\n",
    "        return A\n",
    "    pivot = A[0]\n",
    "    smaller = [i for i in A[1:] if i <= pivot]\n",
    "    bigger = [i for i in A[1:] if i > pivot]\n",
    "    return Quick_Sort(smaller) + [pivot] + Quick_Sort(bigger)"
   ]
  },
  {
   "cell_type": "code",
   "execution_count": 3,
   "metadata": {},
   "outputs": [
    {
     "data": {
      "text/plain": [
       "[1, 2, 3, 4, 5, 6, 7, 8]"
      ]
     },
     "execution_count": 3,
     "metadata": {},
     "output_type": "execute_result"
    }
   ],
   "source": [
    "A = [3,8,1,5,2,4,7,6]\n",
    "Quick_Sort(A)"
   ]
  },
  {
   "cell_type": "markdown",
   "metadata": {},
   "source": [
    "### Let's improve partitioning and omit redundant loops"
   ]
  },
  {
   "cell_type": "code",
   "execution_count": 51,
   "metadata": {},
   "outputs": [],
   "source": [
    "def Quick_Sort2(A:list) -> list:\n",
    "    n = len(A)\n",
    "    if n<2:\n",
    "        return A\n",
    "    pivot = A[0]\n",
    "    j = 1\n",
    "    for i in range(1, len(A)):\n",
    "        if pivot <= A[i]:\n",
    "            continue\n",
    "        else:                        #pivot > A[i]\n",
    "            A[i], A[j] = A[j], A[i] \n",
    "            j += 1\n",
    "    smaller = A[1:j]\n",
    "    bigger = A[j:]\n",
    "    # print('smaller:', smaller, 'bigger:', bigger)       # For more intuition\n",
    "    return Quick_Sort2(smaller) + [pivot] + Quick_Sort2(bigger)"
   ]
  },
  {
   "cell_type": "code",
   "execution_count": 52,
   "metadata": {},
   "outputs": [
    {
     "data": {
      "text/plain": [
       "[1, 1, 1, 1, 1, 1, 1, 1, 1]"
      ]
     },
     "execution_count": 52,
     "metadata": {},
     "output_type": "execute_result"
    }
   ],
   "source": [
    "A = [3,8,2,5,1,4,7,6,1]\n",
    "Quick_Sort2(A)"
   ]
  },
  {
   "cell_type": "markdown",
   "metadata": {},
   "source": [
    "It's far better because we decreased one iteration and now we have less complexity"
   ]
  },
  {
   "cell_type": "markdown",
   "metadata": {},
   "source": [
    "### How about if we change the way of finding the pivot?"
   ]
  },
  {
   "cell_type": "code",
   "execution_count": 6,
   "metadata": {},
   "outputs": [],
   "source": [
    "import random"
   ]
  },
  {
   "cell_type": "code",
   "execution_count": 32,
   "metadata": {},
   "outputs": [
    {
     "data": {
      "text/plain": [
       "[0, 1, 3, 4, 5, 6, 7]"
      ]
     },
     "execution_count": 32,
     "metadata": {},
     "output_type": "execute_result"
    }
   ],
   "source": [
    "n = 8\n",
    "A = [2,3,4,5,6,7,8,9]\n",
    "Z = [i for i in range(len(A))]\n",
    "Z.pop(2)\n",
    "Z"
   ]
  },
  {
   "cell_type": "code",
   "execution_count": 72,
   "metadata": {},
   "outputs": [],
   "source": [
    "def Quick_Sort3(A:list) -> list:\n",
    "    n = len(A)\n",
    "    if n<2:\n",
    "        return A\n",
    "    pivot = A.pop(random.choice(range(len(A))))     # Choosing pivot uniformly random\n",
    "    # print(pivot, A)                                                              # for more intuition\n",
    "    j = 0\n",
    "    for i in range(0, len(A)):\n",
    "        if pivot <= A[i]:\n",
    "            # print(f'if         pivot<=A[i] {pivot} <= {A[i]} i={i}  j={j}')      # for more intuition\n",
    "            continue\n",
    "        else:                        #pivot > A[i]\n",
    "            # print(f'else          pivot>A[i] {pivot} > {A[i]} i={i}  j={j}')     # for more intuition\n",
    "            A[i], A[j] = A[j], A[i] \n",
    "            j += 1\n",
    "    smaller = A[:j]\n",
    "    bigger = A[j:]\n",
    "    # print('smaller:', smaller, 'bigger:', bigger)                                 # For more intuition\n",
    "    return Quick_Sort3(smaller) + [pivot] + Quick_Sort3(bigger)"
   ]
  },
  {
   "cell_type": "code",
   "execution_count": 88,
   "metadata": {},
   "outputs": [
    {
     "data": {
      "text/plain": [
       "[1, 1, 2, 3, 4, 5, 6, 7, 8]"
      ]
     },
     "execution_count": 88,
     "metadata": {},
     "output_type": "execute_result"
    }
   ],
   "source": [
    "A = [3,8,2,5,1,4,7,6,1]\n",
    "Quick_Sort3(A)"
   ]
  },
  {
   "cell_type": "markdown",
   "metadata": {},
   "source": [
    "The worst-case scenario is a running time of Theta(n2), where n is the length of the input array.<br>\n",
    "This occurs when the input array is already sorted and the first element is always used as<br>\n",
    "the pivot element. The best-case scenario is a running time of Theta(n log n). This occurs when<br>\n",
    "the median element is always used as the pivot<br>"
   ]
  },
  {
   "cell_type": "markdown",
   "metadata": {},
   "source": [
    "The average running time of randomized QuickSort is Theta(n log n), only a small constant factor<br>\n",
    " worse than its best-case running time."
   ]
  },
  {
   "cell_type": "markdown",
   "metadata": {},
   "source": [
    "No comparison-based sorting algorithm has a worst-case asymptotic running time better than O(n log n)."
   ]
  },
  {
   "cell_type": "markdown",
   "metadata": {},
   "source": []
  }
 ],
 "metadata": {
  "kernelspec": {
   "display_name": "primary",
   "language": "python",
   "name": "python3"
  },
  "language_info": {
   "codemirror_mode": {
    "name": "ipython",
    "version": 3
   },
   "file_extension": ".py",
   "mimetype": "text/x-python",
   "name": "python",
   "nbconvert_exporter": "python",
   "pygments_lexer": "ipython3",
   "version": "3.11.4"
  }
 },
 "nbformat": 4,
 "nbformat_minor": 2
}
