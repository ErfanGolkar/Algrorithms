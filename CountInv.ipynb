{
 "cells": [
  {
   "cell_type": "markdown",
   "metadata": {},
   "source": [
    "A Program to find inversions in the input array<br>\n",
    "- Simplifying assumption: Length of input list is EVEN\n"
   ]
  },
  {
   "cell_type": "code",
   "execution_count": 10,
   "metadata": {},
   "outputs": [
    {
     "name": "stdout",
     "output_type": "stream",
     "text": [
      "Sorted array: [1, 2, 3, 4, 5, 6, 7, 8]\n",
      "Number of inversions: 28\n"
     ]
    }
   ],
   "source": [
    "def merge_sort_and_count_inversions(arr):\n",
    "    \n",
    "    # Base Case\n",
    "    if len(arr) < 2:\n",
    "        return arr, 0 \n",
    "\n",
    "    mid = len(arr) // 2\n",
    "    left, left_inv = merge_sort_and_count_inversions(arr[:mid])\n",
    "    right, right_inv = merge_sort_and_count_inversions(arr[mid:])\n",
    "\n",
    "    sorted_arr = []\n",
    "    i = j = inv_count = 0\n",
    "    # Merge and count inversions\n",
    "    while i < len(left) and j < len(right):\n",
    "        if left[i] <= right[j]:\n",
    "            sorted_arr.append(left[i])\n",
    "            i += 1\n",
    "        else:\n",
    "            sorted_arr.append(right[j])\n",
    "            inv_count += len(left) - i  # Count inversions \n",
    "            j += 1\n",
    "\n",
    "    sorted_arr.extend(left[i:])\n",
    "    sorted_arr.extend(right[j:])\n",
    "\n",
    "    # print(arr,sorted_arr, left, right, left_inv, right_inv, inv_count)\n",
    "    #if our previous step was a liist with single entry, then we've gotten `left_inv = 0` & `right_inv = 0`\n",
    "    total_inv = left_inv + right_inv + inv_count\n",
    "    return sorted_arr, total_inv\n",
    "\n",
    "# Example usage\n",
    "arr = [8,7,6,5,4,3,2,1]\n",
    "sorted_arr, inversions = merge_sort_and_count_inversions(arr)\n",
    "print(f\"Sorted array: {sorted_arr}\")\n",
    "print(f\"Number of inversions: {inversions}\")\n"
   ]
  },
  {
   "cell_type": "code",
   "execution_count": null,
   "metadata": {},
   "outputs": [],
   "source": []
  }
 ],
 "metadata": {
  "kernelspec": {
   "display_name": "primary",
   "language": "python",
   "name": "python3"
  },
  "language_info": {
   "codemirror_mode": {
    "name": "ipython",
    "version": 3
   },
   "file_extension": ".py",
   "mimetype": "text/x-python",
   "name": "python",
   "nbconvert_exporter": "python",
   "pygments_lexer": "ipython3",
   "version": "3.11.4"
  }
 },
 "nbformat": 4,
 "nbformat_minor": 2
}
