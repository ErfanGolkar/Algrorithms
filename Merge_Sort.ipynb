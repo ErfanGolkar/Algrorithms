{
 "cells": [
  {
   "cell_type": "markdown",
   "metadata": {},
   "source": [
    "This program recursively sorts an input list and is O(nlog(n))"
   ]
  },
  {
   "cell_type": "code",
   "execution_count": 30,
   "metadata": {},
   "outputs": [],
   "source": [
    "def merge_Sort(A:list) -> list:\n",
    "    n = len(A)\n",
    "    if n<2:\n",
    "        return A\n",
    "\n",
    "    # if len(A) > 2\n",
    "    A_L = A[:n//2]\n",
    "    A_R = A[n//2:]\n",
    "    merge_Sort(A_L)\n",
    "    merge_Sort(A_R)\n",
    "\n",
    "    # A_L = merge_Sort(A[:n//2])        # These R better     \n",
    "    # A_R = merge_Sort(A[n//2:])        # These R better\n",
    "\n",
    "\n",
    "    i,j,k = 0,0,0\n",
    "    \n",
    "    # Here we want to add the sublists' elements to the result\n",
    "    # We know that if sublists have length more than 1 they are sorted before, recursively (the functions start sorting from the least sublists' length)\n",
    "    # We know that each sublist has length of len(A)//2 so V add this in our statements\n",
    "    \n",
    "    while i<len(A_L) and j<len(A_R):\n",
    "        if A_L[i] <= A_R[j]:\n",
    "            A[k] = A_L[i]\n",
    "            i += 1\n",
    "            k += 1\n",
    "        \n",
    "        else:                       #A_L[i] > A_R[j]\n",
    "            A[k] = A_R[j]\n",
    "            j += 1\n",
    "            k += 1\n",
    "        \n",
    "\n",
    "    # We know that above iteration can break while one of i or j achive to n (e.g. i = n) for example all elements of one list is bigger than another one\n",
    "    # We either know that the other sublist is in the order\n",
    "    # So we add all remaining elements of the other list to our result     \n",
    "    while i<len(A_L):\n",
    "        A[k] = A_L[i]\n",
    "        i += 1 \n",
    "        k += 1\n",
    "\n",
    "    # avoiding same trajectory\n",
    "    while j<len(A_R):\n",
    "        A[k] = A_R[j]\n",
    "        j += 1 \n",
    "        k += 1\n",
    "\n",
    "    return A"
   ]
  },
  {
   "cell_type": "code",
   "execution_count": 32,
   "metadata": {},
   "outputs": [
    {
     "name": "stdout",
     "output_type": "stream",
     "text": [
      "[1, 2, 3, 4, 5, 6, 7, 8, 9]\n",
      "[1, 2, 3, 4, 5, 6, 7, 8]\n"
     ]
    }
   ],
   "source": [
    "# Testing\n",
    "l1 = [9,8,7,6,5,4,3,2,1]\n",
    "l2 = [4,3,2,1,5,6,7,8]\n",
    "print(merge_Sort(l1))\n",
    "print(merge_Sort(l2))"
   ]
  },
  {
   "cell_type": "code",
   "execution_count": null,
   "metadata": {},
   "outputs": [],
   "source": []
  }
 ],
 "metadata": {
  "kernelspec": {
   "display_name": "primary",
   "language": "python",
   "name": "python3"
  },
  "language_info": {
   "codemirror_mode": {
    "name": "ipython",
    "version": 3
   },
   "file_extension": ".py",
   "mimetype": "text/x-python",
   "name": "python",
   "nbconvert_exporter": "python",
   "pygments_lexer": "ipython3",
   "version": "3.11.4"
  }
 },
 "nbformat": 4,
 "nbformat_minor": 2
}
